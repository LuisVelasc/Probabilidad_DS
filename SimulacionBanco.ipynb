{
 "cells": [
  {
   "cell_type": "markdown",
   "id": "e7d68f35",
   "metadata": {},
   "source": [
    "<img src=\"https://raw.githubusercontent.com/LuisVelasc/Imagenes/main/SimulacionBanco1.PNG\" alt=\"drawing\" width=\"450\">"
   ]
  },
  {
   "cell_type": "markdown",
   "id": "c7f35053",
   "metadata": {},
   "source": [
    "Notas realizadas en el curso de edX Data Science: Probability, impartido por el profesor Rafael Irizarry de la Universidad de Harvard. En este notebook se estudian las operaciones de un banco que solo ofrece prestamos por simulaciones de Monte Carlo. Los resultados se verifican por medio de cálculos teóricos."
   ]
  },
  {
   "cell_type": "markdown",
   "id": "f6bc2953",
   "metadata": {},
   "source": [
    "## Caso: operaciones sin cobrar intereses"
   ]
  },
  {
   "cell_type": "markdown",
   "id": "0288b7ad",
   "metadata": {},
   "source": [
    "Se carga la librería para trabajar con data frames."
   ]
  },
  {
   "cell_type": "code",
   "execution_count": 1,
   "id": "542496fb",
   "metadata": {},
   "outputs": [
    {
     "name": "stderr",
     "output_type": "stream",
     "text": [
      "-- \u001b[1mAttaching packages\u001b[22m --------------------------------------- tidyverse 1.3.1 --\n",
      "\n",
      "\u001b[32mv\u001b[39m \u001b[34mggplot2\u001b[39m 3.3.5     \u001b[32mv\u001b[39m \u001b[34mpurrr  \u001b[39m 0.3.4\n",
      "\u001b[32mv\u001b[39m \u001b[34mtibble \u001b[39m 3.1.4     \u001b[32mv\u001b[39m \u001b[34mdplyr  \u001b[39m 1.0.7\n",
      "\u001b[32mv\u001b[39m \u001b[34mtidyr  \u001b[39m 1.1.3     \u001b[32mv\u001b[39m \u001b[34mstringr\u001b[39m 1.4.0\n",
      "\u001b[32mv\u001b[39m \u001b[34mreadr  \u001b[39m 2.0.1     \u001b[32mv\u001b[39m \u001b[34mforcats\u001b[39m 0.5.1\n",
      "\n",
      "-- \u001b[1mConflicts\u001b[22m ------------------------------------------ tidyverse_conflicts() --\n",
      "\u001b[31mx\u001b[39m \u001b[34mdplyr\u001b[39m::\u001b[32mfilter()\u001b[39m masks \u001b[34mstats\u001b[39m::filter()\n",
      "\u001b[31mx\u001b[39m \u001b[34mdplyr\u001b[39m::\u001b[32mlag()\u001b[39m    masks \u001b[34mstats\u001b[39m::lag()\n",
      "\n"
     ]
    }
   ],
   "source": [
    "library(tidyverse)"
   ]
  },
  {
   "cell_type": "markdown",
   "id": "27d39973",
   "metadata": {},
   "source": [
    "Primero creamos un modelo de tasas de interés. Consideramos n prestamos de 180,000 dls cada uno dados por el banco, se considera que por cada cliente que no paga el banco pierde 200,000 dls. La probabilidad de que un cliente no pague es del 2%."
   ]
  },
  {
   "cell_type": "code",
   "execution_count": 2,
   "id": "4db65d70",
   "metadata": {},
   "outputs": [
    {
     "data": {
      "text/html": [
       "-4600000"
      ],
      "text/latex": [
       "-4600000"
      ],
      "text/markdown": [
       "-4600000"
      ],
      "text/plain": [
       "[1] -4600000"
      ]
     },
     "metadata": {},
     "output_type": "display_data"
    }
   ],
   "source": [
    "n=1000 # Prestamos dados\n",
    "perdidas_no_pago=-200000 # Pérdidas por cada cliente que no paga\n",
    "p=0.02  # Probabilidad de no pago\n",
    "\n",
    "Impago=sample(c(0,1),n,prob=c(1-p,p), replace=TRUE)\n",
    "sum(Impago*perdidas_no_pago)"
   ]
  },
  {
   "cell_type": "markdown",
   "id": "c2f01b84",
   "metadata": {},
   "source": [
    "Bajo estos supuesto observamos que el banco perdió dinero. Ahora se procede a simular el mismo proceso 10,000 veces."
   ]
  },
  {
   "cell_type": "code",
   "execution_count": 3,
   "id": "89d55683",
   "metadata": {},
   "outputs": [],
   "source": [
    "B=10000 # Simulaciones\n",
    "Perdidas=replicate(B,{\n",
    "  Impago=sample(c(0,1),n,prob=c(1-p,p), replace=TRUE)\n",
    "  sum(Impago*perdidas_no_pago)\n",
    "})"
   ]
  },
  {
   "cell_type": "markdown",
   "id": "716aed9c",
   "metadata": {},
   "source": [
    "Se grafican las pérdidas del banco, se observa que si cobrar intereses es prácticamente imposible que el banco gane dinero."
   ]
  },
  {
   "cell_type": "code",
   "execution_count": 4,
   "id": "96569855",
   "metadata": {},
   "outputs": [
    {
     "data": {
      "image/png": "[encoded data removed]",
      "text/plain": [
       "plot without title"
      ]
     },
     "metadata": {
      "image/png": {
       "height": 420,
       "width": 420
      }
     },
     "output_type": "display_data"
    }
   ],
   "source": [
    "data.frame(Perdidas_Millones=Perdidas/10^6) %>%\n",
    "  ggplot(aes(Perdidas_Millones))+\n",
    "  geom_histogram(binwidth=0.6, col=\"black\")"
   ]
  },
  {
   "cell_type": "markdown",
   "id": "b412b25a",
   "metadata": {},
   "source": [
    "Ahora determinamos el valor esperado (E) de ganancias y el error estándar (SE)"
   ]
  },
  {
   "cell_type": "markdown",
   "id": "fe1bec56",
   "metadata": {},
   "source": [
    "<img src=\"https://raw.githubusercontent.com/LuisVelasc/Imagenes/main/SimulacionBanco2.PNG\" alt=\"drawing\" width=\"450\">"
   ]
  },
  {
   "cell_type": "code",
   "execution_count": 5,
   "id": "316ddb34",
   "metadata": {},
   "outputs": [
    {
     "data": {
      "text/html": [
       "-4"
      ],
      "text/latex": [
       "-4"
      ],
      "text/markdown": [
       "-4"
      ],
      "text/plain": [
       "[1] -4"
      ]
     },
     "metadata": {},
     "output_type": "display_data"
    },
    {
     "data": {
      "text/html": [
       "0.885437744847146"
      ],
      "text/latex": [
       "0.885437744847146"
      ],
      "text/markdown": [
       "0.885437744847146"
      ],
      "text/plain": [
       "[1] 0.8854377"
      ]
     },
     "metadata": {},
     "output_type": "display_data"
    }
   ],
   "source": [
    "E_S=n*(p*perdidas_no_pago+(1-p)*0)\n",
    "SE_S=sqrt(n)*abs(perdidas_no_pago)*sqrt(p*(1-p))\n",
    "\n",
    "E_S/10^6\n",
    "SE_S/10^6"
   ]
  },
  {
   "cell_type": "markdown",
   "id": "f3966fd8",
   "metadata": {},
   "source": [
    "Se observa que los valores obtenidos por la simulación de Monte Carlo son coherentes con los teóricos."
   ]
  },
  {
   "cell_type": "markdown",
   "id": "d43e93c2",
   "metadata": {},
   "source": [
    "## Caso: operaciones cobrando intereses"
   ]
  },
  {
   "cell_type": "markdown",
   "id": "ada43e13",
   "metadata": {},
   "source": [
    "Se determina la tasa de interés que le permitiría al banco no tener pérdidas. Hay que recordar que cada prestamo dado es de 180,000 dls."
   ]
  },
  {
   "cell_type": "markdown",
   "id": "9857f1e4",
   "metadata": {},
   "source": [
    "<img src=\"https://raw.githubusercontent.com/LuisVelasc/Imagenes/main/SimulacionBanco3.PNG\" alt=\"drawing\" width=\"250\">"
   ]
  },
  {
   "cell_type": "code",
   "execution_count": 6,
   "id": "dff1e7f1",
   "metadata": {},
   "outputs": [
    {
     "data": {
      "text/html": [
       "0.0226757369614512"
      ],
      "text/latex": [
       "0.0226757369614512"
      ],
      "text/markdown": [
       "0.0226757369614512"
      ],
      "text/plain": [
       "[1] 0.02267574"
      ]
     },
     "metadata": {},
     "output_type": "display_data"
    }
   ],
   "source": [
    "x=-perdidas_no_pago*p/(1-p)\n",
    "x/180000"
   ]
  },
  {
   "cell_type": "markdown",
   "id": "1cfae570",
   "metadata": {},
   "source": [
    "Se realiza la simulación de Monte Carlo considerando las ganancias generadas por el interés del 2.3%"
   ]
  },
  {
   "cell_type": "code",
   "execution_count": 7,
   "id": "2dd6541c",
   "metadata": {},
   "outputs": [],
   "source": [
    "n=1000 # Prestamos dados\n",
    "perdidas_no_pago=-200000 # Pérdidas por cada cliente que no paga\n",
    "p=0.02  # Probabilidad de no pago\n",
    "ganancia_pago=x # Ganancia por la tasa de interés\n",
    "\n",
    "B=10000 # Simulaciones\n",
    "Prestamos=replicate(B,{\n",
    "  Ganancias=sample(c(ganancia_pago,perdidas_no_pago),n,prob=c(1-p,p), replace=TRUE)\n",
    "  sum(Ganancias)\n",
    "})"
   ]
  },
  {
   "cell_type": "markdown",
   "id": "44f934b2",
   "metadata": {},
   "source": [
    "Ahora gráficamos las ganancias obtenidas por las simulaciones de Monte Carlo. Se observa que de media el banco no pierde ni gana dinero, tal como se determinó en primer lugar."
   ]
  },
  {
   "cell_type": "code",
   "execution_count": 8,
   "id": "8af6f489",
   "metadata": {},
   "outputs": [
    {
     "data": {
      "image/png": "[encoded data removed]",
      "text/plain": [
       "plot without title"
      ]
     },
     "metadata": {
      "image/png": {
       "height": 420,
       "width": 420
      }
     },
     "output_type": "display_data"
    }
   ],
   "source": [
    "data.frame(Ganancias_Millones=Prestamos/10^6) %>%\n",
    "  ggplot(aes(Ganancias_Millones))+\n",
    "  geom_histogram(binwidth=0.6, col=\"black\")"
   ]
  },
  {
   "cell_type": "markdown",
   "id": "a71957bd",
   "metadata": {},
   "source": [
    "Ahora se cambia el escenario de tal manera de que solo exista un 1% de probabilidad de que el banco tenga pérdidas. Empezamos determinando la tasa de interés que nos permita esto. Como se puede obsevar en la gráfica delas ganancias, la distribución de la muestra parece normal, utilizaremos ésto para calcular la tasa de interés. "
   ]
  },
  {
   "cell_type": "markdown",
   "id": "918a59a6",
   "metadata": {},
   "source": [
    "<img src=\"https://raw.githubusercontent.com/LuisVelasc/Imagenes/main/SimulacionBanco4.PNG\" alt=\"drawing\" width=\"450\">"
   ]
  },
  {
   "cell_type": "code",
   "execution_count": 9,
   "id": "dbd3332d",
   "metadata": {},
   "outputs": [
    {
     "data": {
      "text/html": [
       "0.0347176738379562"
      ],
      "text/latex": [
       "0.0347176738379562"
      ],
      "text/markdown": [
       "0.0347176738379562"
      ],
      "text/plain": [
       "[1] 0.03471767"
      ]
     },
     "metadata": {},
     "output_type": "display_data"
    }
   ],
   "source": [
    "l=perdidas_no_pago\n",
    "z=qnorm(0.01)\n",
    "x=-l*(n*p-z*sqrt(n*p*(1-p)))/(n*(1-p)+z*sqrt(n*p*(1-p)))\n",
    "x/180000"
   ]
  },
  {
   "cell_type": "markdown",
   "id": "7324aacf",
   "metadata": {},
   "source": [
    "La nueva tasa es del 3.5%, se realiza una nueva simulación de Monte Carlo y se grafican las ganancias resultantes. "
   ]
  },
  {
   "cell_type": "code",
   "execution_count": 10,
   "id": "2606ebd6",
   "metadata": {},
   "outputs": [
    {
     "data": {
      "image/png": "[encoded data removed]",
      "text/plain": [
       "plot without title"
      ]
     },
     "metadata": {
      "image/png": {
       "height": 420,
       "width": 420
      }
     },
     "output_type": "display_data"
    }
   ],
   "source": [
    "n=1000 # Prestamos dados\n",
    "perdidas_no_pago=-200000 # Pérdidas por cada cliente que no paga\n",
    "p=0.02  # Probabilidad de no pago\n",
    "ganancia_pago=x # Ganancia por la tasa de interés del 3.5%\n",
    "\n",
    "B=10000 # Simulaciones\n",
    "Prestamos=replicate(B,{\n",
    "  Ganancias=sample(c(ganancia_pago,perdidas_no_pago),n,prob=c(1-p,p), replace=TRUE)\n",
    "  sum(Ganancias)\n",
    "})\n",
    "\n",
    "data.frame(Ganancias_Millones=Prestamos/10^6) %>%\n",
    "  ggplot(aes(Ganancias_Millones))+\n",
    "  geom_histogram(binwidth=0.6, col=\"black\")"
   ]
  },
  {
   "cell_type": "markdown",
   "id": "d75060a2",
   "metadata": {},
   "source": [
    "Se revisa la simulación por medio de un cálculo teórico, se observa que existe coherencia entre el valor esperado de la ganancia  determinada por la teoría y la media de la muestra obtenida por la simulación."
   ]
  },
  {
   "cell_type": "code",
   "execution_count": 11,
   "id": "a2cb3080",
   "metadata": {},
   "outputs": [
    {
     "data": {
      "text/html": [
       "2.12419766501548"
      ],
      "text/latex": [
       "2.12419766501548"
      ],
      "text/markdown": [
       "2.12419766501548"
      ],
      "text/plain": [
       "[1] 2.124198"
      ]
     },
     "metadata": {},
     "output_type": "display_data"
    }
   ],
   "source": [
    "# La nueva tasa de interés es del 3%, se revisa valor esperado de ganancias\n",
    "d=perdidas_no_pago*p+x*(1-p) # Ganancia por préstamo\n",
    "n*d/10^6 # Ganancia total"
   ]
  },
  {
   "cell_type": "markdown",
   "id": "590fad5d",
   "metadata": {},
   "source": [
    "## Caso: incrementándo prestamos brindados"
   ]
  },
  {
   "cell_type": "markdown",
   "id": "c9bd7e9d",
   "metadata": {},
   "source": [
    "Debido a que se están obteniendo ganancias de cada préstamo dado, se estudia la posibilidad de incrementar el número de préstamos brindados. Esto hace que la probabilidad de impago aumente por lo que también se tiene que incrementar la tasa de interés. Se observa que con una probabilidad de impago del 4% y una tasa del 5%, aún se esperan ganancias para el banco por cada préstamo dado."
   ]
  },
  {
   "cell_type": "code",
   "execution_count": 12,
   "id": "df4d3748",
   "metadata": {},
   "outputs": [
    {
     "data": {
      "text/html": [
       "640"
      ],
      "text/latex": [
       "640"
      ],
      "text/markdown": [
       "640"
      ],
      "text/plain": [
       "[1] 640"
      ]
     },
     "metadata": {},
     "output_type": "display_data"
    }
   ],
   "source": [
    "p=0.04     # Probabilidad de impago\n",
    "r=0.05     # Tasa de interés\n",
    "x=r*180000 # Ganancia de cada préstamo\n",
    "perdidas_no_pago*p+x*(1-p)"
   ]
  },
  {
   "cell_type": "markdown",
   "id": "26435a17",
   "metadata": {},
   "source": [
    "Ahora se determina el número de préstamos necesarios para que la probabilidad de pérdida para el banco se mantenga en 1%, de manera similar se considera que la distribución de la población se asemeja a la normal. "
   ]
  },
  {
   "attachments": {},
   "cell_type": "markdown",
   "id": "1cd79852",
   "metadata": {},
   "source": [
    "<img src=\"https://raw.githubusercontent.com/LuisVelasc/Imagenes/main/SimulacionBanco5.PNG\" alt=\"drawing\" width=\"350\">"
   ]
  },
  {
   "cell_type": "code",
   "execution_count": 13,
   "id": "5fbf1af0",
   "metadata": {},
   "outputs": [
    {
     "data": {
      "text/html": [
       "22163"
      ],
      "text/latex": [
       "22163"
      ],
      "text/markdown": [
       "22163"
      ],
      "text/plain": [
       "[1] 22163"
      ]
     },
     "metadata": {},
     "output_type": "display_data"
    },
    {
     "data": {
      "text/html": [
       "14.18432"
      ],
      "text/latex": [
       "14.18432"
      ],
      "text/markdown": [
       "14.18432"
      ],
      "text/plain": [
       "[1] 14.18432"
      ]
     },
     "metadata": {},
     "output_type": "display_data"
    }
   ],
   "source": [
    "z=qnorm(0.01)\n",
    "l=perdidas_no_pago\n",
    "n=ceiling((z^2*(x-l)^2*p*(1-p))/(l*p+x*(1-p))^2)\n",
    "n # Préstamos para minimizar probabilidad de pérdidas\n",
    "n*(perdidas_no_pago*p+x*(1-p))/10^6 # Ganancia esperada"
   ]
  },
  {
   "cell_type": "markdown",
   "id": "394cb5bf",
   "metadata": {},
   "source": [
    "Se observa que brindando 22,163 préstamos, se esperan ganancias de 14 millones de dls. Se realiza una simulación de Monte Carlo para verificar los resultados. Nuevamente todo parece en orden."
   ]
  },
  {
   "cell_type": "code",
   "execution_count": 14,
   "id": "3a604b06",
   "metadata": {},
   "outputs": [
    {
     "data": {
      "text/html": [
       "14.2160671"
      ],
      "text/latex": [
       "14.2160671"
      ],
      "text/markdown": [
       "14.2160671"
      ],
      "text/plain": [
       "[1] 14.21607"
      ]
     },
     "metadata": {},
     "output_type": "display_data"
    },
    {
     "data": {
      "image/png": "[encoded data removed]",
      "text/plain": [
       "plot without title"
      ]
     },
     "metadata": {
      "image/png": {
       "height": 420,
       "width": 420
      }
     },
     "output_type": "display_data"
    }
   ],
   "source": [
    "B=10000\n",
    "Ganancias=replicate(B,{\n",
    "  prestamos=sample(c(x,perdidas_no_pago),n,prob=c(1-p,p),replace=TRUE)\n",
    "  sum(prestamos)\n",
    "})\n",
    "mean(Ganancias)/10^6\n",
    "\n",
    "data.frame(Ganancias_Millones=Ganancias/10^6) %>%\n",
    "  ggplot(aes(Ganancias_Millones))+\n",
    "  geom_histogram(binwidth=1, col=\"black\")"
   ]
  },
  {
   "cell_type": "markdown",
   "id": "47575c4a",
   "metadata": {},
   "source": [
    "## Caso: la probabilidad de impago no es constante"
   ]
  },
  {
   "cell_type": "markdown",
   "id": "82244653",
   "metadata": {},
   "source": [
    "Hasta ahora nuestras simulaciones han sido válidas debido a que se ha considerado que la probabilidad de impago es independiente para todos los clientes, sin embargo, en caso de ocurrir algún evento que originara la modificación de la probabilidad de impago p para todos los clientes, entonces se obtendrían valores muy diferentes.\n",
    "\n",
    "Para simular esto se considerará que la probabilidad de impago sigue una distribución uniforme entre el 3% y 5%. "
   ]
  },
  {
   "cell_type": "code",
   "execution_count": 15,
   "id": "9c7998e3",
   "metadata": {},
   "outputs": [],
   "source": [
    "Ganancias2=replicate(B,{\n",
    "  nueva_p=0.04+sample(seq(-0.01,0.01,length=100),1)\n",
    "  prestamos=sample(c(x,perdidas_no_pago),n,prob=c(1-nueva_p,nueva_p), replace=TRUE)\n",
    "  sum(prestamos)\n",
    "})"
   ]
  },
  {
   "cell_type": "markdown",
   "id": "d6452cab",
   "metadata": {},
   "source": [
    "Se determinan las nuevas probabilidades de perder dinero para este nuevo caso. Se observa que aún se esperan ganancias de 14 millones de dls, sin embargo, ahora las probabilidades de perder dinero se han incrementado hasta un 34%. Más aún, se observa que la probabilidad de perder 10 millones de dls es del 24%."
   ]
  },
  {
   "cell_type": "code",
   "execution_count": 16,
   "id": "feca20b8",
   "metadata": {},
   "outputs": [
    {
     "data": {
      "text/html": [
       "14.540247"
      ],
      "text/latex": [
       "14.540247"
      ],
      "text/markdown": [
       "14.540247"
      ],
      "text/plain": [
       "[1] 14.54025"
      ]
     },
     "metadata": {},
     "output_type": "display_data"
    },
    {
     "data": {
      "text/html": [
       "0.3423"
      ],
      "text/latex": [
       "0.3423"
      ],
      "text/markdown": [
       "0.3423"
      ],
      "text/plain": [
       "[1] 0.3423"
      ]
     },
     "metadata": {},
     "output_type": "display_data"
    },
    {
     "data": {
      "text/html": [
       "0.2363"
      ],
      "text/latex": [
       "0.2363"
      ],
      "text/markdown": [
       "0.2363"
      ],
      "text/plain": [
       "[1] 0.2363"
      ]
     },
     "metadata": {},
     "output_type": "display_data"
    }
   ],
   "source": [
    "mean(Ganancias2)/10^6\n",
    "mean(Ganancias2<0)\n",
    "mean(Ganancias2< -10000000)"
   ]
  },
  {
   "cell_type": "markdown",
   "id": "b7905dd1",
   "metadata": {},
   "source": [
    "Se grafica la muestra obtenida por la simulación de Monte Carlo, se observa que ahora ya no se asemeja más a la normal. "
   ]
  },
  {
   "cell_type": "code",
   "execution_count": 17,
   "id": "928f68d9",
   "metadata": {},
   "outputs": [
    {
     "data": {
      "image/png": "[encoded data removed]",
      "text/plain": [
       "plot without title"
      ]
     },
     "metadata": {
      "image/png": {
       "height": 420,
       "width": 420
      }
     },
     "output_type": "display_data"
    }
   ],
   "source": [
    "data.frame(Ganancias_Millones=Ganancias2/10^6) %>%\n",
    "  ggplot(aes(Ganancias_Millones))+\n",
    "  geom_histogram(binwidth=7.5, col=\"black\")"
   ]
  },
  {
   "cell_type": "markdown",
   "id": "75474e67",
   "metadata": {},
   "source": [
    "## Caso: reduciendo probabilidad de impago"
   ]
  },
  {
   "cell_type": "markdown",
   "id": "72e102fc",
   "metadata": {},
   "source": [
    "Otra manera de incrementar las ganancias sería manteniendo la tasa del 3.5% pero a la vez reduciendo la probabilidad de impago. Al considerar una probabilidad de impago de 1% la ganancia esperada sube a 4 millones de dls. Este valor es mayor a los 2 millones estimados originalmente pero considerablemente menor a los 14 millones estimados al incrementar el número de préstamos. "
   ]
  },
  {
   "cell_type": "code",
   "execution_count": 18,
   "id": "8d47e0c3",
   "metadata": {},
   "outputs": [
    {
     "data": {
      "text/html": [
       "4237"
      ],
      "text/latex": [
       "4237"
      ],
      "text/markdown": [
       "4237"
      ],
      "text/plain": [
       "[1] 4237"
      ]
     },
     "metadata": {},
     "output_type": "display_data"
    }
   ],
   "source": [
    "n=1000 # Prestamos dados\n",
    "perdidas_no_pago=-200000 # Pérdidas por cada cliente que no paga\n",
    "p=0.01  # Probabilidad de no pago\n",
    "ganancia_pago=0.035*180000 # Ganancia por la tasa de interés\n",
    "perdidas_no_pago*p+ganancia_pago*(1-p)"
   ]
  },
  {
   "cell_type": "code",
   "execution_count": 19,
   "id": "5179748a",
   "metadata": {},
   "outputs": [
    {
     "data": {
      "image/png": "[encoded data removed]",
      "text/plain": [
       "plot without title"
      ]
     },
     "metadata": {
      "image/png": {
       "height": 420,
       "width": 420
      }
     },
     "output_type": "display_data"
    }
   ],
   "source": [
    "B=10000 # Simulaciones\n",
    "Prestamos=replicate(B,{\n",
    "  Ganancias=sample(c(ganancia_pago,perdidas_no_pago),n,prob=c(1-p,p), replace=TRUE)\n",
    "  sum(Ganancias)\n",
    "})\n",
    "\n",
    "data.frame(Ganancias_Millones=Prestamos/10^6) %>%\n",
    "  ggplot(aes(Ganancias_Millones))+\n",
    "  geom_histogram(binwidth=0.4, col=\"black\")"
   ]
  }
 ],
 "metadata": {
  "kernelspec": {
   "display_name": "R",
   "language": "R",
   "name": "ir"
  },
  "language_info": {
   "codemirror_mode": "r",
   "file_extension": ".r",
   "mimetype": "text/x-r-source",
   "name": "R",
   "pygments_lexer": "r",
   "version": "4.1.1"
  }
 },
 "nbformat": 4,
 "nbformat_minor": 5
}
