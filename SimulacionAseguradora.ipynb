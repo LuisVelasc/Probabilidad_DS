{
 "cells": [
  {
   "cell_type": "markdown",
   "id": "8f82874b",
   "metadata": {},
   "source": [
    "<img src=\"https://raw.githubusercontent.com/LuisVelasc/Imagenes/main/SimulacionAseguradora1.PNG\" alt=\"drawing\" width=\"400\">"
   ]
  },
  {
   "cell_type": "markdown",
   "id": "c3af7fde",
   "metadata": {},
   "source": [
    "Ejercicio realizado en el curso de edX Data Science: Probability, impartido por el profesor Rafael Irizarry de la Universidad de Harvard. En este notebook se estudian las operaciones de una aseguradora."
   ]
  },
  {
   "cell_type": "markdown",
   "id": "ff60995c",
   "metadata": {},
   "source": [
    "## Base de datos: death_prob"
   ]
  },
  {
   "cell_type": "markdown",
   "id": "0a8f2084",
   "metadata": {},
   "source": [
    "Se comienza cargando las librerías necesarias para este ejercicio."
   ]
  },
  {
   "cell_type": "code",
   "execution_count": 1,
   "id": "290b5e7d",
   "metadata": {},
   "outputs": [
    {
     "name": "stderr",
     "output_type": "stream",
     "text": [
      "-- \u001b[1mAttaching packages\u001b[22m --------------------------------------- tidyverse 1.3.1 --\n",
      "\n",
      "\u001b[32mv\u001b[39m \u001b[34mggplot2\u001b[39m 3.3.5     \u001b[32mv\u001b[39m \u001b[34mpurrr  \u001b[39m 0.3.4\n",
      "\u001b[32mv\u001b[39m \u001b[34mtibble \u001b[39m 3.1.4     \u001b[32mv\u001b[39m \u001b[34mdplyr  \u001b[39m 1.0.7\n",
      "\u001b[32mv\u001b[39m \u001b[34mtidyr  \u001b[39m 1.1.3     \u001b[32mv\u001b[39m \u001b[34mstringr\u001b[39m 1.4.0\n",
      "\u001b[32mv\u001b[39m \u001b[34mreadr  \u001b[39m 2.0.1     \u001b[32mv\u001b[39m \u001b[34mforcats\u001b[39m 0.5.1\n",
      "\n",
      "-- \u001b[1mConflicts\u001b[22m ------------------------------------------ tidyverse_conflicts() --\n",
      "\u001b[31mx\u001b[39m \u001b[34mdplyr\u001b[39m::\u001b[32mfilter()\u001b[39m masks \u001b[34mstats\u001b[39m::filter()\n",
      "\u001b[31mx\u001b[39m \u001b[34mdplyr\u001b[39m::\u001b[32mlag()\u001b[39m    masks \u001b[34mstats\u001b[39m::lag()\n",
      "\n"
     ]
    }
   ],
   "source": [
    "library(tidyverse)\n",
    "library(dslabs)"
   ]
  },
  {
   "cell_type": "markdown",
   "id": "96b79ff6",
   "metadata": {},
   "source": [
    "Se utilizará la base de datos conocida como death_prob la cual contiene la probabilidad de muerte de personas ordenadas por sexo y edad. La probabilidad es para un año, los datos fueron tomados de la población de Estados Unidos en el año 2015."
   ]
  },
  {
   "cell_type": "code",
   "execution_count": 2,
   "id": "c9fa67f2",
   "metadata": {},
   "outputs": [
    {
     "data": {
      "text/html": [
       "<table class=\"dataframe\">\n",
       "<caption>A data.frame: 6 × 3</caption>\n",
       "<thead>\n",
       "\t<tr><th></th><th scope=col>age</th><th scope=col>sex</th><th scope=col>prob</th></tr>\n",
       "\t<tr><th></th><th scope=col>&lt;int&gt;</th><th scope=col>&lt;fct&gt;</th><th scope=col>&lt;dbl&gt;</th></tr>\n",
       "</thead>\n",
       "<tbody>\n",
       "\t<tr><th scope=row>1</th><td>0</td><td>Male</td><td>0.006383</td></tr>\n",
       "\t<tr><th scope=row>2</th><td>1</td><td>Male</td><td>0.000453</td></tr>\n",
       "\t<tr><th scope=row>3</th><td>2</td><td>Male</td><td>0.000282</td></tr>\n",
       "\t<tr><th scope=row>4</th><td>3</td><td>Male</td><td>0.000230</td></tr>\n",
       "\t<tr><th scope=row>5</th><td>4</td><td>Male</td><td>0.000169</td></tr>\n",
       "\t<tr><th scope=row>6</th><td>5</td><td>Male</td><td>0.000155</td></tr>\n",
       "</tbody>\n",
       "</table>\n"
      ],
      "text/latex": [
       "A data.frame: 6 × 3\n",
       "\\begin{tabular}{r|lll}\n",
       "  & age & sex & prob\\\\\n",
       "  & <int> & <fct> & <dbl>\\\\\n",
       "\\hline\n",
       "\t1 & 0 & Male & 0.006383\\\\\n",
       "\t2 & 1 & Male & 0.000453\\\\\n",
       "\t3 & 2 & Male & 0.000282\\\\\n",
       "\t4 & 3 & Male & 0.000230\\\\\n",
       "\t5 & 4 & Male & 0.000169\\\\\n",
       "\t6 & 5 & Male & 0.000155\\\\\n",
       "\\end{tabular}\n"
      ],
      "text/markdown": [
       "\n",
       "A data.frame: 6 × 3\n",
       "\n",
       "| <!--/--> | age &lt;int&gt; | sex &lt;fct&gt; | prob &lt;dbl&gt; |\n",
       "|---|---|---|---|\n",
       "| 1 | 0 | Male | 0.006383 |\n",
       "| 2 | 1 | Male | 0.000453 |\n",
       "| 3 | 2 | Male | 0.000282 |\n",
       "| 4 | 3 | Male | 0.000230 |\n",
       "| 5 | 4 | Male | 0.000169 |\n",
       "| 6 | 5 | Male | 0.000155 |\n",
       "\n"
      ],
      "text/plain": [
       "  age sex  prob    \n",
       "1 0   Male 0.006383\n",
       "2 1   Male 0.000453\n",
       "3 2   Male 0.000282\n",
       "4 3   Male 0.000230\n",
       "5 4   Male 0.000169\n",
       "6 5   Male 0.000155"
      ]
     },
     "metadata": {},
     "output_type": "display_data"
    }
   ],
   "source": [
    "data(death_prob)\n",
    "head(death_prob)"
   ]
  },
  {
   "cell_type": "markdown",
   "id": "b9eb2431",
   "metadata": {},
   "source": [
    "Se considera que se venden 1,000 pólizas, cada una cuesta 1,150 dls y, al fallecer una persona, la aseguradora tiene que pagar 150,000 dls."
   ]
  },
  {
   "cell_type": "code",
   "execution_count": 3,
   "id": "e39a3b4c",
   "metadata": {},
   "outputs": [],
   "source": [
    "Gan=1150\n",
    "Per=-150000\n",
    "n=1000"
   ]
  },
  {
   "cell_type": "markdown",
   "id": "afc8a8ff",
   "metadata": {},
   "source": [
    "## Caso: mujeres de 50 años"
   ]
  },
  {
   "cell_type": "markdown",
   "id": "eac8c2fe",
   "metadata": {},
   "source": [
    "Primero determinamos la probabilidad que tiene una mujer de 50 años de fallecer en el próximo año. Se observa que es de apenas el 0.3%"
   ]
  },
  {
   "cell_type": "code",
   "execution_count": 4,
   "id": "63d8c6c5",
   "metadata": {},
   "outputs": [
    {
     "data": {
      "text/html": [
       "0.003193"
      ],
      "text/latex": [
       "0.003193"
      ],
      "text/markdown": [
       "0.003193"
      ],
      "text/plain": [
       "[1] 0.003193"
      ]
     },
     "metadata": {},
     "output_type": "display_data"
    }
   ],
   "source": [
    "p=death_prob %>% filter(sex==\"Female\" & age==50) %>% .$prob\n",
    "p"
   ]
  },
  {
   "cell_type": "markdown",
   "id": "810dc0f4",
   "metadata": {},
   "source": [
    "Con esta probabilidad determinamos la ganancia esperada y el error estándar por cada póliza vendida. Los valores indican que se esperan ganancias por cada póliza vendida."
   ]
  },
  {
   "cell_type": "markdown",
   "id": "95473491",
   "metadata": {},
   "source": [
    "<img src=\"https://raw.githubusercontent.com/LuisVelasc/Imagenes/main/SimulacionAseguradora2.PNG\" alt=\"drawing\" width=\"200\">"
   ]
  },
  {
   "cell_type": "code",
   "execution_count": 5,
   "id": "47e4122c",
   "metadata": {},
   "outputs": [
    {
     "data": {
      "text/html": [
       "667.37805"
      ],
      "text/latex": [
       "667.37805"
      ],
      "text/markdown": [
       "667.37805"
      ],
      "text/plain": [
       "[1] 667.3781"
      ]
     },
     "metadata": {},
     "output_type": "display_data"
    },
    {
     "data": {
      "text/html": [
       "8527.33157534514"
      ],
      "text/latex": [
       "8527.33157534514"
      ],
      "text/markdown": [
       "8527.33157534514"
      ],
      "text/plain": [
       "[1] 8527.332"
      ]
     },
     "metadata": {},
     "output_type": "display_data"
    }
   ],
   "source": [
    "Per*p+Gan*(1-p)\n",
    "abs(Gan-Per)*sqrt(p*(1-p))"
   ]
  },
  {
   "cell_type": "markdown",
   "id": "63f5cb02",
   "metadata": {},
   "source": [
    "Ahora hacemos el cálculo para las 1,000 pólizas vendidas. Se espera que en un año la aseguradora gane más de 600,000 dls."
   ]
  },
  {
   "cell_type": "markdown",
   "id": "0828507b",
   "metadata": {},
   "source": [
    "<img src=\"https://raw.githubusercontent.com/LuisVelasc/Imagenes/main/SimulacionAseguradora3.PNG\" alt=\"drawing\" width=\"290\">"
   ]
  },
  {
   "cell_type": "code",
   "execution_count": 6,
   "id": "a7886bfb",
   "metadata": {},
   "outputs": [
    {
     "data": {
      "text/html": [
       "667378.05"
      ],
      "text/latex": [
       "667378.05"
      ],
      "text/markdown": [
       "667378.05"
      ],
      "text/plain": [
       "[1] 667378.1"
      ]
     },
     "metadata": {},
     "output_type": "display_data"
    },
    {
     "data": {
      "text/html": [
       "269657.901415624"
      ],
      "text/latex": [
       "269657.901415624"
      ],
      "text/markdown": [
       "269657.901415624"
      ],
      "text/plain": [
       "[1] 269657.9"
      ]
     },
     "metadata": {},
     "output_type": "display_data"
    }
   ],
   "source": [
    "avg=n*(Per*p+Gan*(1-p))\n",
    "sd=abs(Gan-Per)*sqrt(n*p*(1-p))\n",
    "\n",
    "avg;sd"
   ]
  },
  {
   "cell_type": "markdown",
   "id": "eca5529e",
   "metadata": {},
   "source": [
    "Apoyándonos en una distribución normal, se determina la probabilidad de que en el próximo año la aseguradora pierda dinero. Es menor al 0.6%"
   ]
  },
  {
   "cell_type": "code",
   "execution_count": 7,
   "id": "fc3055a2",
   "metadata": {},
   "outputs": [
    {
     "data": {
      "text/html": [
       "0.00666355601891808"
      ],
      "text/latex": [
       "0.00666355601891808"
      ],
      "text/markdown": [
       "0.00666355601891808"
      ],
      "text/plain": [
       "[1] 0.006663556"
      ]
     },
     "metadata": {},
     "output_type": "display_data"
    }
   ],
   "source": [
    "pnorm(0,avg,sd)"
   ]
  },
  {
   "cell_type": "markdown",
   "id": "8d77b0a9",
   "metadata": {},
   "source": [
    "## Caso: hombres de 50 años"
   ]
  },
  {
   "cell_type": "markdown",
   "id": "9bd71d7f",
   "metadata": {},
   "source": [
    "Ahora se busca la probabilidad que tiene un hombre de 50 años de morir en el proximo año. Se observa que los hombres de 50 años tienen una mayor probabilidad de morir (0.5%) que las mujeres de la misma edad (0.3%)."
   ]
  },
  {
   "cell_type": "code",
   "execution_count": 8,
   "id": "19080fc8",
   "metadata": {},
   "outputs": [
    {
     "data": {
      "text/html": [
       "0.005013"
      ],
      "text/latex": [
       "0.005013"
      ],
      "text/markdown": [
       "0.005013"
      ],
      "text/plain": [
       "[1] 0.005013"
      ]
     },
     "metadata": {},
     "output_type": "display_data"
    }
   ],
   "source": [
    "p=death_prob %>% filter(sex==\"Male\" & age==50) %>% .$prob\n",
    "p"
   ]
  },
  {
   "cell_type": "markdown",
   "id": "023752ae",
   "metadata": {},
   "source": [
    "Se determina el costo que debería de tener la póliza para que la aseguradora tenga ganancias por 700,000 dls en el año. El cálculo nos indica que se deben de vender a 1,455 dls."
   ]
  },
  {
   "cell_type": "markdown",
   "id": "5238ec8b",
   "metadata": {},
   "source": [
    "<img src=\"https://raw.githubusercontent.com/LuisVelasc/Imagenes/main/SimulacionAseguradora4.PNG\" alt=\"drawing\" width=\"200\">"
   ]
  },
  {
   "cell_type": "code",
   "execution_count": 9,
   "id": "6d9acaef",
   "metadata": {},
   "outputs": [
    {
     "data": {
      "text/html": [
       "1455.73851718666"
      ],
      "text/latex": [
       "1455.73851718666"
      ],
      "text/markdown": [
       "1455.73851718666"
      ],
      "text/plain": [
       "[1] 1455.739"
      ]
     },
     "metadata": {},
     "output_type": "display_data"
    }
   ],
   "source": [
    "x=(700000/n)-Per*p/(1-p)\n",
    "x"
   ]
  },
  {
   "cell_type": "markdown",
   "id": "c7c8396f",
   "metadata": {},
   "source": [
    "Usando el costo determinado se calcula la ganancia esperada y el error estándar."
   ]
  },
  {
   "cell_type": "code",
   "execution_count": 10,
   "id": "eb9db258",
   "metadata": {},
   "outputs": [
    {
     "data": {
      "text/html": [
       "696490.9"
      ],
      "text/latex": [
       "696490.9"
      ],
      "text/markdown": [
       "696490.9"
      ],
      "text/plain": [
       "[1] 696490.9"
      ]
     },
     "metadata": {},
     "output_type": "display_data"
    },
    {
     "data": {
      "text/html": [
       "338254.270681415"
      ],
      "text/latex": [
       "338254.270681415"
      ],
      "text/markdown": [
       "338254.270681415"
      ],
      "text/plain": [
       "[1] 338254.3"
      ]
     },
     "metadata": {},
     "output_type": "display_data"
    }
   ],
   "source": [
    "Gan=x\n",
    "sd=abs(Gan-Per)*sqrt(n*p*(1-p))\n",
    "avg=n*(Per*p+Gan*(1-p))\n",
    "\n",
    "avg;sd"
   ]
  },
  {
   "cell_type": "markdown",
   "id": "737ca8c8",
   "metadata": {},
   "source": [
    "Apoyándonos en la distribución normal, se determina la probabilidad de que la aseguradora presente pérdidas en el próximo año. Se observa que es de apenas el 2%."
   ]
  },
  {
   "cell_type": "code",
   "execution_count": 11,
   "id": "22fa2e10",
   "metadata": {},
   "outputs": [
    {
     "data": {
      "text/html": [
       "0.0197435289181538"
      ],
      "text/latex": [
       "0.0197435289181538"
      ],
      "text/markdown": [
       "0.0197435289181538"
      ],
      "text/plain": [
       "[1] 0.01974353"
      ]
     },
     "metadata": {},
     "output_type": "display_data"
    }
   ],
   "source": [
    "pnorm(0,avg,sd)"
   ]
  },
  {
   "cell_type": "markdown",
   "id": "482dcfca",
   "metadata": {},
   "source": [
    "## Caso: se incrementa probablidad de fallecer"
   ]
  },
  {
   "cell_type": "markdown",
   "id": "a946ed7a",
   "metadata": {},
   "source": [
    "Imaginemos que ocurre una epidemia que incrementa la probabilidad de fallecer de los hombres de 50 años a un 1.5%; bajo este supuesto se calculan las ganancias esperadas y el error estándar. Como se puede observar, ahora se esperan pérdidas por 1.1 millones de dls."
   ]
  },
  {
   "cell_type": "code",
   "execution_count": 12,
   "id": "285b74cd",
   "metadata": {},
   "outputs": [
    {
     "data": {
      "text/html": [
       "-1117250"
      ],
      "text/latex": [
       "-1117250"
      ],
      "text/markdown": [
       "-1117250"
      ],
      "text/plain": [
       "[1] -1117250"
      ]
     },
     "metadata": {},
     "output_type": "display_data"
    },
    {
     "data": {
      "text/html": [
       "580994.332965047"
      ],
      "text/latex": [
       "580994.332965047"
      ],
      "text/markdown": [
       "580994.332965047"
      ],
      "text/plain": [
       "[1] 580994.3"
      ]
     },
     "metadata": {},
     "output_type": "display_data"
    }
   ],
   "source": [
    "p=0.015\n",
    "Gan=1150\n",
    "Per=-150000\n",
    "n=1000\n",
    "avg=n*(Per*p+Gan*(1-p))\n",
    "sd=abs(Gan-Per)*sqrt(n*p*(1-p))\n",
    "avg;sd"
   ]
  },
  {
   "cell_type": "markdown",
   "id": "f0596e35",
   "metadata": {},
   "source": [
    "Utilizando una distribución normal, se determina la probabilidad que tiene la aseguradora de presentar pérdidas. Ésta es del 97%."
   ]
  },
  {
   "cell_type": "code",
   "execution_count": 13,
   "id": "5861ed86",
   "metadata": {},
   "outputs": [
    {
     "data": {
      "text/html": [
       "0.972759747855672"
      ],
      "text/latex": [
       "0.972759747855672"
      ],
      "text/markdown": [
       "0.972759747855672"
      ],
      "text/plain": [
       "[1] 0.9727597"
      ]
     },
     "metadata": {},
     "output_type": "display_data"
    }
   ],
   "source": [
    "pnorm(0,avg,sd)"
   ]
  },
  {
   "cell_type": "markdown",
   "id": "7d05e6ae",
   "metadata": {},
   "source": [
    "Se revisan otras probabilidades de fallecer para hombres de 50 años, considerándose que éstas pueden variar entre 1% y 3%. Se observa que aún con un valor mínimo del 1%, la aseguradora tiene una probabilidad de pérdida del 78%."
   ]
  },
  {
   "cell_type": "code",
   "execution_count": 14,
   "id": "d16f006e",
   "metadata": {},
   "outputs": [
    {
     "data": {
      "text/html": [
       "<style>\n",
       ".list-inline {list-style: none; margin:0; padding: 0}\n",
       ".list-inline>li {display: inline-block}\n",
       ".list-inline>li:not(:last-child)::after {content: \"\\00b7\"; padding: 0 .5ex}\n",
       "</style>\n",
       "<ol class=list-inline><li>0.776408776246528</li><li>0.848094791604493</li><li>0.898923209290597</li><li>0.933862932702477</li><li>0.957313652731441</li><li>0.972759747855672</li><li>0.982780910546319</li><li>0.989202728537434</li><li>0.993276099633937</li><li>0.995837714461544</li><li>0.997436876198032</li><li>0.998428918326382</li><li>0.999040959439978</li><li>0.999416736763986</li><li>0.999646465160589</li><li>0.999786368005368</li><li>0.999871271803394</li><li>0.999922634891287</li><li>0.999953617076309</li><li>0.999972255363454</li><li>0.999983439818969</li></ol>\n"
      ],
      "text/latex": [
       "\\begin{enumerate*}\n",
       "\\item 0.776408776246528\n",
       "\\item 0.848094791604493\n",
       "\\item 0.898923209290597\n",
       "\\item 0.933862932702477\n",
       "\\item 0.957313652731441\n",
       "\\item 0.972759747855672\n",
       "\\item 0.982780910546319\n",
       "\\item 0.989202728537434\n",
       "\\item 0.993276099633937\n",
       "\\item 0.995837714461544\n",
       "\\item 0.997436876198032\n",
       "\\item 0.998428918326382\n",
       "\\item 0.999040959439978\n",
       "\\item 0.999416736763986\n",
       "\\item 0.999646465160589\n",
       "\\item 0.999786368005368\n",
       "\\item 0.999871271803394\n",
       "\\item 0.999922634891287\n",
       "\\item 0.999953617076309\n",
       "\\item 0.999972255363454\n",
       "\\item 0.999983439818969\n",
       "\\end{enumerate*}\n"
      ],
      "text/markdown": [
       "1. 0.776408776246528\n",
       "2. 0.848094791604493\n",
       "3. 0.898923209290597\n",
       "4. 0.933862932702477\n",
       "5. 0.957313652731441\n",
       "6. 0.972759747855672\n",
       "7. 0.982780910546319\n",
       "8. 0.989202728537434\n",
       "9. 0.993276099633937\n",
       "10. 0.995837714461544\n",
       "11. 0.997436876198032\n",
       "12. 0.998428918326382\n",
       "13. 0.999040959439978\n",
       "14. 0.999416736763986\n",
       "15. 0.999646465160589\n",
       "16. 0.999786368005368\n",
       "17. 0.999871271803394\n",
       "18. 0.999922634891287\n",
       "19. 0.999953617076309\n",
       "20. 0.999972255363454\n",
       "21. 0.999983439818969\n",
       "\n",
       "\n"
      ],
      "text/plain": [
       " [1] 0.7764088 0.8480948 0.8989232 0.9338629 0.9573137 0.9727597 0.9827809\n",
       " [8] 0.9892027 0.9932761 0.9958377 0.9974369 0.9984289 0.9990410 0.9994167\n",
       "[15] 0.9996465 0.9997864 0.9998713 0.9999226 0.9999536 0.9999723 0.9999834"
      ]
     },
     "metadata": {},
     "output_type": "display_data"
    }
   ],
   "source": [
    "p=seq(0.01,0.03,0.001)\n",
    "avg=n*(Per*p+Gan*(1-p))\n",
    "sd=abs(Gan-Per)*sqrt(n*p*(1-p))\n",
    "pnorm(0,avg,sd)"
   ]
  },
  {
   "cell_type": "markdown",
   "id": "e2a9c95e",
   "metadata": {},
   "source": [
    "Ahora se hace una simulaicón de Monte Carlo con una probabilidad de fallecimiento de 1.5%; la muestra indica que la probabilidad que tiene la aseguradora de perder dinero es del 98%, un valor muy similar al obtenido de manera teórica."
   ]
  },
  {
   "cell_type": "code",
   "execution_count": 15,
   "id": "3ef5aea1",
   "metadata": {},
   "outputs": [
    {
     "data": {
      "text/html": [
       "0.9835"
      ],
      "text/latex": [
       "0.9835"
      ],
      "text/markdown": [
       "0.9835"
      ],
      "text/plain": [
       "[1] 0.9835"
      ]
     },
     "metadata": {},
     "output_type": "display_data"
    }
   ],
   "source": [
    "p=0.015\n",
    "n=1000\n",
    "B=10000\n",
    "\n",
    "S=replicate(B,{\n",
    "  sum(sample(c(Gan,Per),n,prob=c(1-p,p),replace=TRUE))\n",
    "})\n",
    "\n",
    "mean(S<= 0)"
   ]
  },
  {
   "cell_type": "markdown",
   "id": "e779dab2",
   "metadata": {},
   "source": [
    "Con los datos obtenidos de la simulación, se procede a realizar una gráfica del histograma de las ganancias."
   ]
  },
  {
   "cell_type": "code",
   "execution_count": 16,
   "id": "83f3bd44",
   "metadata": {},
   "outputs": [
    {
     "data": {
      "image/png": "[encoded data removed]",
      "text/plain": [
       "plot without title"
      ]
     },
     "metadata": {
      "image/png": {
       "height": 420,
       "width": 420
      }
     },
     "output_type": "display_data"
    }
   ],
   "source": [
    "data.frame(Ganancias_Millones=S/10^6) %>%\n",
    "  ggplot(aes(Ganancias_Millones))+\n",
    "  geom_histogram(binwidth=0.3, col=\"black\")"
   ]
  },
  {
   "cell_type": "markdown",
   "id": "6f08eb77",
   "metadata": {},
   "source": [
    "## Caso: la aseguradora quiebra si pierde 1 millón de dls"
   ]
  },
  {
   "cell_type": "markdown",
   "id": "9d8df51b",
   "metadata": {},
   "source": [
    "Ahora consideremos el caso de que la aseguradora no puede afrontar una pérdida mayor a un millón de dls. Se determina la probabilidad de perder esa cantidad de dinero en el año para una probabilidad de fallecimiento del 1.5%; el resultado indica que ésta es del 58%."
   ]
  },
  {
   "cell_type": "code",
   "execution_count": 17,
   "id": "4ae87299",
   "metadata": {},
   "outputs": [
    {
     "data": {
      "text/html": [
       "0.579967054478084"
      ],
      "text/latex": [
       "0.579967054478084"
      ],
      "text/markdown": [
       "0.579967054478084"
      ],
      "text/plain": [
       "[1] 0.5799671"
      ]
     },
     "metadata": {},
     "output_type": "display_data"
    }
   ],
   "source": [
    "p=0.015\n",
    "Gan=1150\n",
    "Per=-150000\n",
    "n=1000\n",
    "avg=n*(Per*p+Gan*(1-p))\n",
    "sd=abs(Gan-Per)*sqrt(n*p*(1-p))\n",
    "\n",
    "pnorm(-1000000,avg,sd)"
   ]
  },
  {
   "cell_type": "markdown",
   "id": "05392306",
   "metadata": {},
   "source": [
    "De manera similar se revisan otras probabilidades de fellecimiento para determinar para cuales es plausible en escenario en el que la aseguradora pueda sobrevivir. Se oberva que solo para probabilidades del 1% y 1.25% la aseguradora presenta una probabilidad menor al 50% de perder más de 1 millón de dls."
   ]
  },
  {
   "cell_type": "code",
   "execution_count": 18,
   "id": "4451531d",
   "metadata": {},
   "outputs": [
    {
     "data": {
      "text/html": [
       "<style>\n",
       ".list-inline {list-style: none; margin:0; padding: 0}\n",
       ".list-inline>li {display: inline-block}\n",
       ".list-inline>li:not(:last-child)::after {content: \"\\00b7\"; padding: 0 .5ex}\n",
       "</style>\n",
       "<ol class=list-inline><li>0.0897065192572867</li><li>0.311792025373895</li><li>0.579967054478084</li><li>0.785233092833779</li><li>0.903985805010199</li><li>0.961187855747964</li><li>0.985467325682801</li><li>0.994872709241893</li><li>0.998274615719244</li></ol>\n"
      ],
      "text/latex": [
       "\\begin{enumerate*}\n",
       "\\item 0.0897065192572867\n",
       "\\item 0.311792025373895\n",
       "\\item 0.579967054478084\n",
       "\\item 0.785233092833779\n",
       "\\item 0.903985805010199\n",
       "\\item 0.961187855747964\n",
       "\\item 0.985467325682801\n",
       "\\item 0.994872709241893\n",
       "\\item 0.998274615719244\n",
       "\\end{enumerate*}\n"
      ],
      "text/markdown": [
       "1. 0.0897065192572867\n",
       "2. 0.311792025373895\n",
       "3. 0.579967054478084\n",
       "4. 0.785233092833779\n",
       "5. 0.903985805010199\n",
       "6. 0.961187855747964\n",
       "7. 0.985467325682801\n",
       "8. 0.994872709241893\n",
       "9. 0.998274615719244\n",
       "\n",
       "\n"
      ],
      "text/plain": [
       "[1] 0.08970652 0.31179203 0.57996705 0.78523309 0.90398581 0.96118786 0.98546733\n",
       "[8] 0.99487271 0.99827462"
      ]
     },
     "metadata": {},
     "output_type": "display_data"
    }
   ],
   "source": [
    "p=seq(0.01,0.03,0.0025)\n",
    "avg=n*(Per*p+Gan*(1-p))\n",
    "sd=abs(Gan-Per)*sqrt(n*p*(1-p))\n",
    "pnorm(-1000000,avg,sd)"
   ]
  },
  {
   "cell_type": "markdown",
   "id": "df43865f",
   "metadata": {},
   "source": [
    "Ahora se realiza una simulación de Monte Carlo para verificar los resultados obtenidos, se observa que la ambos valores son muy similares."
   ]
  },
  {
   "cell_type": "code",
   "execution_count": 19,
   "id": "728fd2ab",
   "metadata": {},
   "outputs": [
    {
     "data": {
      "text/html": [
       "0.5342"
      ],
      "text/latex": [
       "0.5342"
      ],
      "text/markdown": [
       "0.5342"
      ],
      "text/plain": [
       "[1] 0.5342"
      ]
     },
     "metadata": {},
     "output_type": "display_data"
    }
   ],
   "source": [
    "p=0.015\n",
    "n=1000\n",
    "B=10000\n",
    "\n",
    "S=replicate(B,{\n",
    "  sum(sample(c(Gan,Per),n,prob=c(1-p,p),replace=TRUE))\n",
    "})\n",
    "\n",
    "mean(S<= -1000000)"
   ]
  },
  {
   "cell_type": "markdown",
   "id": "263ea0a2",
   "metadata": {},
   "source": [
    "## Caso: obtener ganancias con p = 1.5%"
   ]
  },
  {
   "cell_type": "markdown",
   "id": "8b7c7e87",
   "metadata": {},
   "source": [
    "En este caso se determina el costo de la póliza que nos permita obtener ganancias cuando la probabilidad de fallecimiento es igual a 1.5%. Para hacer esto nos apoyamos en la distribución normal y buscamos un costo de póliza que nos brinde una probabilidad de pérdidas del 5%"
   ]
  },
  {
   "cell_type": "markdown",
   "id": "5c6bb6fa",
   "metadata": {},
   "source": [
    "<img src=\"https://raw.githubusercontent.com/LuisVelasc/Imagenes/main/SimulacionAseguradora5.PNG\" alt=\"drawing\" width=\"350\">"
   ]
  },
  {
   "cell_type": "code",
   "execution_count": 20,
   "id": "523899fe",
   "metadata": {},
   "outputs": [
    {
     "data": {
      "text/html": [
       "3268.06310304371"
      ],
      "text/latex": [
       "3268.06310304371"
      ],
      "text/markdown": [
       "3268.06310304371"
      ],
      "text/plain": [
       "[1] 3268.063"
      ]
     },
     "metadata": {},
     "output_type": "display_data"
    }
   ],
   "source": [
    "z=qnorm(0.05)\n",
    "x=-Per*(n*p-z*sqrt(n*p*(1-p)))/(n*(1-p)+z*sqrt(n*p*(1-p)))\n",
    "x"
   ]
  },
  {
   "cell_type": "markdown",
   "id": "36166d8a",
   "metadata": {},
   "source": [
    "El cálculo nos indica que cada póliza se debe de vender a 3,268 dls. Con este nuevo costo se estima la ganancia esperada por las 1,000 pólizas vendidas. Se observa que la aseguradora espera ganar 970,000 dls."
   ]
  },
  {
   "cell_type": "code",
   "execution_count": 21,
   "id": "625e4e08",
   "metadata": {},
   "outputs": [
    {
     "data": {
      "text/html": [
       "969042.156498057"
      ],
      "text/latex": [
       "969042.156498057"
      ],
      "text/markdown": [
       "969042.156498057"
      ],
      "text/plain": [
       "[1] 969042.2"
      ]
     },
     "metadata": {},
     "output_type": "display_data"
    }
   ],
   "source": [
    "Gan=x\n",
    "avg=n*(Per*p+Gan*(1-p))\n",
    "avg"
   ]
  },
  {
   "cell_type": "markdown",
   "id": "7b4114fd",
   "metadata": {},
   "source": [
    "Ahora se realiza una simulación de Monte Carlo para corroborar el resultado."
   ]
  },
  {
   "cell_type": "code",
   "execution_count": 22,
   "id": "12d089bf",
   "metadata": {},
   "outputs": [
    {
     "data": {
      "text/html": [
       "0.0515"
      ],
      "text/latex": [
       "0.0515"
      ],
      "text/markdown": [
       "0.0515"
      ],
      "text/plain": [
       "[1] 0.0515"
      ]
     },
     "metadata": {},
     "output_type": "display_data"
    }
   ],
   "source": [
    "p=0.015\n",
    "n=1000\n",
    "B=10000\n",
    "\n",
    "S=replicate(B,{\n",
    "  sum(sample(c(Gan,Per),n,prob=c(1-p,p),replace=TRUE))\n",
    "})\n",
    "\n",
    "mean(S<= 0)"
   ]
  },
  {
   "cell_type": "markdown",
   "id": "a9fd2343",
   "metadata": {},
   "source": [
    "Se realiza una gráfica de las ganancias obtenidas por la simulación."
   ]
  },
  {
   "cell_type": "code",
   "execution_count": 23,
   "id": "c6c89462",
   "metadata": {},
   "outputs": [
    {
     "data": {
      "image/png": "[encoded data removed]",
      "text/plain": [
       "plot without title"
      ]
     },
     "metadata": {
      "image/png": {
       "height": 420,
       "width": 420
      }
     },
     "output_type": "display_data"
    }
   ],
   "source": [
    "data.frame(Ganancias_Millones=S/10^6) %>%\n",
    "  ggplot(aes(Ganancias_Millones))+\n",
    "  geom_histogram(binwidth=0.3, col=\"black\")"
   ]
  },
  {
   "cell_type": "markdown",
   "id": "8008a090",
   "metadata": {},
   "source": [
    "## Caso: Análisis de la sensibilidad de la ganancia"
   ]
  },
  {
   "cell_type": "markdown",
   "id": "9f79769a",
   "metadata": {},
   "source": [
    "Por último se revisa que tan robusto es nuestro cálculo bajo la consideración de que la probabilidad de fallecimiento varía entre 0.5% y 2.5%; para hacer esto se tiene que utilizar una simulación de Monte Carlo. Se observa que, cobrándo 3,268 dls por póliza, se espera una ganancia de 980,000 dls, aunque las probabilidades de perder dinero en el siguiente año y probabilidad de bancarrota son del 19% y 4%, respectivamente. Adicionalmente, se presenta una gráfica con el histrograma de las ganancias."
   ]
  },
  {
   "cell_type": "code",
   "execution_count": 24,
   "id": "2ba88fad",
   "metadata": {},
   "outputs": [
    {
     "data": {
      "text/html": [
       "967463.495448095"
      ],
      "text/latex": [
       "967463.495448095"
      ],
      "text/markdown": [
       "967463.495448095"
      ],
      "text/plain": [
       "[1] 967463.5"
      ]
     },
     "metadata": {},
     "output_type": "display_data"
    },
    {
     "data": {
      "text/html": [
       "0.1905"
      ],
      "text/latex": [
       "0.1905"
      ],
      "text/markdown": [
       "0.1905"
      ],
      "text/plain": [
       "[1] 0.1905"
      ]
     },
     "metadata": {},
     "output_type": "display_data"
    },
    {
     "data": {
      "text/html": [
       "0.0467"
      ],
      "text/latex": [
       "0.0467"
      ],
      "text/markdown": [
       "0.0467"
      ],
      "text/plain": [
       "[1] 0.0467"
      ]
     },
     "metadata": {},
     "output_type": "display_data"
    }
   ],
   "source": [
    "p=0.015\n",
    "n=1000\n",
    "B=10000\n",
    "Gan=x\n",
    "Per=-150000\n",
    "\n",
    "S=replicate(B,{\n",
    "  p_nueva=p+sample(seq(-0.01, 0.01, length = 100), 1)\n",
    "  sum(sample(c(Gan,Per),n,prob=c(1-p_nueva,p_nueva),replace=TRUE))\n",
    "})\n",
    "\n",
    "mean(S)\n",
    "mean(S< 0)\n",
    "mean(S< -1000000)"
   ]
  },
  {
   "cell_type": "code",
   "execution_count": 25,
   "id": "bea841f9",
   "metadata": {},
   "outputs": [
    {
     "data": {
      "image/png": "[encoded data removed]",
      "text/plain": [
       "plot without title"
      ]
     },
     "metadata": {
      "image/png": {
       "height": 420,
       "width": 420
      }
     },
     "output_type": "display_data"
    }
   ],
   "source": [
    "data.frame(Ganancias_Millones=S/10^6) %>%\n",
    "  ggplot(aes(Ganancias_Millones))+\n",
    "  geom_histogram(binwidth=0.6, col=\"black\")"
   ]
  }
 ],
 "metadata": {
  "kernelspec": {
   "display_name": "R",
   "language": "R",
   "name": "ir"
  },
  "language_info": {
   "codemirror_mode": "r",
   "file_extension": ".r",
   "mimetype": "text/x-r-source",
   "name": "R",
   "pygments_lexer": "r",
   "version": "4.1.1"
  },
  "toc": {
   "base_numbering": 1,
   "nav_menu": {},
   "number_sections": true,
   "sideBar": true,
   "skip_h1_title": false,
   "title_cell": "Table of Contents",
   "title_sidebar": "Contents",
   "toc_cell": false,
   "toc_position": {},
   "toc_section_display": true,
   "toc_window_display": true
  }
 },
 "nbformat": 4,
 "nbformat_minor": 5
}
